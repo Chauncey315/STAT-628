{
 "cells": [
  {
   "cell_type": "markdown",
   "metadata": {},
   "source": [
    "## Introduction\n",
    "\n",
    "The body fat percentage (BFP) of a human or other living being is the total mass of fat divided by total body mass, multiplied by 100. It is a measure of fitness level. While the body fat percentage plays an important role in various health outcomes such as life expectancy, prognosis for disease, healthcare costs, and the general well-being of individuals, it is quite difficult and costly to calculate: one of the more accurate methods requires underwater weighing. Thus, it is very practical to come up with a simple, accurate and precise method to estimate body fat percentage. \n",
    "\n",
    "We can use multiple regression to determine the prediction equations for the determination of body fat percentage. Since the data set contains various body measurements and an accurate estimate of the percentage of body fat from Siri's equation, body fat percentage can be fit to the other measurements using multiple regression, giving a useful predictive equation for doctor to estimate people's body fat percentage. The various measurements other than body fat  are ones that are easy to obtain and serve as proxies for body fat, which is not so easily obtained.\n",
    "\n",
    "The data set we used to analyze contains age, weight, height and 10 circumference measurements on 252 men. Each man's percentage of body fat was accurately estimated by an underwater weighing technique."
   ]
  },
  {
   "cell_type": "markdown",
   "metadata": {},
   "source": [
    "## Data Preprocessing\n",
    "\n",
    "According to the Siri's equation $100B=\\frac{495}{D}-450$, there should be a linear relationship between the two variables body fat and density. Since we are interested in body fat, we select it as the response variable.\n"
   ]
  },
  {
   "cell_type": "markdown",
   "metadata": {},
   "source": [
    "<table>\n",
    "<td> \n",
    "<img src=\"https://raw.githubusercontent.com/sshen82/STAT-628/master/Plot/plot3.jpg\" style=\"width:70%;height:35%\"> <br>\n",
    "</td> \n",
    "<td> \n",
    "<img src=\"https://raw.githubusercontent.com/sshen82/STAT-628/master/Plot/plot5.jpg\" style=\"width:100%; height:50%\"> <br>\n",
    "</td> \n",
    "</table>\n",
    "<caption><center> Figure 1: Cook's distance plot and Influence plot</center></caption>\n"
   ]
  },
  {
   "cell_type": "markdown",
   "metadata": {},
   "source": [
    "Firstly, we look through the summary statistics of all variables. We found that there are some abnormal observations. The body fat of observation 182 is 0 which must be an error and this could be handled by computing from the Siri's formula, which should be -3.6. Since there may exist an record error, we decide to delete it. The density of observation 216 is 0.995 smaller than the density of water. Since we do not use density and the other features are normal, we just keep this observation. The height of observation 42 is 29.50 which is so small, but the other features seem quite normal. We consider to impute it by BMI calculation, which should be 69.50. \n",
    "\n",
    "Secondly, we fit the linear regression with all observations and then use Cook’s distance to find the influential points of the model. From the Cook's distance plot, we identify observation 39 is obvious influential point. The subject weights 363 pounds which is very abnormal and all the other features are also quite big, for instance the hip, chest, abdomen circumstances. Then, we consider to delete it. \n",
    "\n",
    "After the data cleaning, we draw an influence plot. According to the influence plot, the studentized residuals are in the range [-3,3] and the hat values are small. There are no obvious outliers and influential points. Hence we could do next step to construct the linear regression model."
   ]
  },
  {
   "cell_type": "markdown",
   "metadata": {},
   "source": [
    "## Multicollinearity\n",
    "\n",
    "To determine which explanatory variables I need to construct the regression model, first I calculate the\n",
    "variance inflation factors of each $𝑋_k$, k=1,2,3,...14. A rule of thumb is that if the mean variance inflation\n",
    "factor is greater than 1, then there might exist multicollinearity. For each inflation factor 𝑉𝐼𝐹 , if it’s \n",
    "greater than 10, the multicollinearity might have a significant influence. In this dataset, by using the VIF function in R’s “car” package.We may gain 𝑉𝐼𝐹 shown below.\n",
    "\n",
    "Because mean vif is 22.18 greater than 1. Hence, there might be the multicollinearity problem. From the table of 𝑉𝐼𝐹 s shown above, we could identify the individual factor VIF of WEIGHT,HEIGHT and ADIPOSITY are much greater than 10, which indicates that multicollinearity may have a large impact on the inference."
   ]
  },
  {
   "cell_type": "markdown",
   "metadata": {},
   "source": [
    "## Model Selection\n",
    "\n",
    "Next, in order to reduce multicollinearity, we need to reduce the model parameters. There are four famous criteron to select the predictor variables. The R^2 criterion, adjusted R^2 criterion, Mallow’s Cp criterion, BIC/AIC criterion. The smaller Cp,BIC/AIC and the bigger adjusted R^2 criterion and R^2, the better the performance of the model fitting.\n",
    "I first use the \"regsubset\" function in R's \"leaps\" package to gain the best selection model with each best selection size 1 and selection among maximum size 14 of subsets to be examined."
   ]
  },
  {
   "cell_type": "markdown",
   "metadata": {},
   "source": [
    "<table>\n",
    "<td> \n",
    "<img src=\"https://raw.githubusercontent.com/sshen82/STAT-628/master/Plot/table.png\" style=\"width:95%;height:25%\"> <br>\n",
    "</td> \n",
    "<td> \n",
    "<img src=\"https://raw.githubusercontent.com/sshen82/STAT-628/master/Plot/BIC.jpg\" style=\"width:100%;height: 35%\"> <br>\n",
    "</td> \n",
    "</table>\n",
    "<caption><center> Figure 2: Criterion table and Model output</center></caption>"
   ]
  },
  {
   "cell_type": "markdown",
   "metadata": {},
   "source": [
    "From the table shown above (Figure 2 Criterion table), we could identify that when 2 variables are selected based on the exhaustive search, the change of $R^2$, adjusted $R^2$, $C_p$ and $BIC$ is the largest, indicating that select two variables would be enough to construct a suitable model. Based on the \"rugsubset\" function, the model is $BODYFAT\\sim WEIGHT+ABDOMEN$. ##"
   ]
  },
  {
   "cell_type": "markdown",
   "metadata": {},
   "source": [
    "Next we would use t test to check the significance of the coefficients (Figure 2 Model ouput). Because the p value of both the 2 variables amuch smaller than 0.05 and therefore the coefficients are significant. The model is effective.\n",
    "\n",
    "Then I use the $“step”$ function in R and $BIC$ criterion.The reason that I choose $BIC$ criterion is that $AIC$ will tend to overfitting. The direction of this process is “both” instead of exhaustive search we implemented before, which means we either add or delete the explanatory variable and compare $BIC$ among them and choose the smallest $BIC$ to gain the best model fitting explanatory variables. The result after a number of steps of choosing is BODYFAT ~ AGE + ADIPOSITY + CHEST + ABDOMEN + WRIST. ##"
   ]
  },
  {
   "cell_type": "markdown",
   "metadata": {},
   "source": [
    "## Diagnostics"
   ]
  },
  {
   "cell_type": "markdown",
   "metadata": {},
   "source": [
    "<table>\n",
    "<td> \n",
    "<img src=\"https://raw.githubusercontent.com/sshen82/STAT-628/master/Plot/diag1.png\" style=\"width:100%;height:30%\"> <br>\n",
    "</td> \n",
    "</table>\n",
    "<caption><center> Figure 3: Diagnostics plots</center></caption>"
   ]
  },
  {
   "cell_type": "markdown",
   "metadata": {},
   "source": [
    "From the plot shown above, for Resudals vs Index plot both of them are patternless and therefore satisfy the independence. For Residuals vs Fitted plot, the vertical distance from the points to x axis are both nearly constant and patternless and therefore satisfying the homoscedasticity. For the $Normal~Q-Q~plot$ the residual points of both models are almost in a line and thus the normality assumption should not be violated."
   ]
  },
  {
   "cell_type": "markdown",
   "metadata": {},
   "source": [
    "## Relationship Between Bodyfat and BMI\n",
    "\n",
    "Many papers talk about the relation between bodyfat and bmi and then they use bmi to assess bodyfat. Compared with the method mentioned above, the method on bmi is eaiser to measure and it is more convenient in daily life. Thus, next we compare the result of two models. \n",
    "\n",
    "The acticle by Terence C. Mills provides a semi-logarithmic relation between bodyfat and bmi. Thus, we explore the relation between $BODYFAT$ and $ln(BMI)$."
   ]
  },
  {
   "cell_type": "markdown",
   "metadata": {},
   "source": [
    "<table>\n",
    "<td> \n",
    "<img src=\"https://raw.githubusercontent.com/sshen82/STAT-628/master/Plot/BMI.png\" style=\"width:80%;height:35%\"> <br>\n",
    "</td> \n",
    "<td> \n",
    "<img src=\"https://raw.githubusercontent.com/sshen82/STAT-628/master/Plot/lnBMI.png\" style=\"width:80%;height: 35%\"> <br>\n",
    "</td> \n",
    "</table>\n",
    "<caption><center> Figure 4: BMI plot and lnBMI plot</center></caption>"
   ]
  },
  {
   "cell_type": "markdown",
   "metadata": {},
   "source": [
    "In addition, N. K. Mungreiphy, June Stevens and Mott JW have talked about the relation among bodyfat, bmi and age. And, the U.S. National Institutes of Health and the Centers for Disease Control and Prevention provide the criterion about bmi by 10 on the age. Thus, we rescale the age to ordinal level by 10 and add the covariate to our model, and conduct a linear model with $lnBMI$ and $Age\\_level$."
   ]
  },
  {
   "cell_type": "markdown",
   "metadata": {},
   "source": [
    "<table>\n",
    "<td> \n",
    "<img src=\"https://raw.githubusercontent.com/sshen82/STAT-628/master/Plot/ln(BMI%2Bage).jpg\" style=\"width:100%;height:40%\"> <br>\n",
    "</td> \n",
    "</table>\n",
    "<caption><center> Figure 5: lnBMI + age model output</center></caption>"
   ]
  },
  {
   "cell_type": "markdown",
   "metadata": {},
   "source": [
    "## Diagnostics"
   ]
  },
  {
   "cell_type": "markdown",
   "metadata": {},
   "source": [
    "<table>\n",
    "<td> \n",
    "<img src=\"https://raw.githubusercontent.com/sshen82/STAT-628/master/Plot/diag2.png\" style=\"width:100%;height:35%\"> <br>\n",
    "</td> \n",
    "</table>\n",
    "<caption><center> Figure 6: Diagnostics plots</center></caption>"
   ]
  },
  {
   "cell_type": "markdown",
   "metadata": {},
   "source": [
    "From the plot shown above, for Resudals vs Index plot both of them are patternless and therefore satisfy the independence. For Residuals vs Fitted plot, the vertical distance from the points to x axis are both nearly constant and patternless and therefore satisfying the homoscedasticity. For the $Normal~Q-Q~plot$ the residual points of both models are almost in a line and thus the normality assumption should not be violated. "
   ]
  },
  {
   "cell_type": "markdown",
   "metadata": {},
   "source": [
    "## Compare Two Models\n",
    "\n",
    "Here, we get two models, the one is $A：BODYFAT \\sim WEIGHT + ABDOMEN$ and the other is $B：BODYFAT \\sim ln(BMI) + Age\\_level$. We split the dataset to train dataset and test dataset to test the robustness of the two model."
   ]
  },
  {
   "cell_type": "markdown",
   "metadata": {},
   "source": [
    "<table>\n",
    "<td> \n",
    "<img src=\"https://raw.githubusercontent.com/sshen82/STAT-628/master/Plot/comparison.jpg\" style=\"width:100%;height:55%\"> <br>\n",
    "</td> \n",
    "</table>\n",
    "<caption><center> Figure 7: Model comparison</center></caption>"
   ]
  },
  {
   "cell_type": "markdown",
   "metadata": {},
   "source": [
    "We use Mean absolute error to test three models. From the result, we can find that these two model perform better than Onmi Model in the dataset. For our two model,  Model A is more accurate and Model B is much easier to measure. So we provide these two model for doctor."
   ]
  },
  {
   "cell_type": "code",
   "execution_count": null,
   "metadata": {},
   "outputs": [],
   "source": []
  }
 ],
 "metadata": {
  "kernelspec": {
   "display_name": "R",
   "language": "R",
   "name": "ir"
  },
  "language_info": {
   "codemirror_mode": "r",
   "file_extension": ".r",
   "mimetype": "text/x-r-source",
   "name": "R",
   "pygments_lexer": "r",
   "version": "3.5.3"
  }
 },
 "nbformat": 4,
 "nbformat_minor": 2
}
